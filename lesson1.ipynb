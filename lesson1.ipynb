{
 "cells": [
  {
   "attachments": {},
   "cell_type": "markdown",
   "metadata": {},
   "source": [
    "# Python 入門"
   ]
  },
  {
   "attachments": {},
   "cell_type": "markdown",
   "metadata": {},
   "source": [
    "### Numpy"
   ]
  },
  {
   "cell_type": "code",
   "execution_count": null,
   "metadata": {},
   "outputs": [],
   "source": [
    "import numpy as np\n",
    "\n",
    "###numpy配列の宣言###\n",
    "x=np.array([1.0, 2.0, 3.0])\n",
    "y=np.array([3, 4, 5.5])\n",
    "print(\"x\", x)\n",
    "print(\"y\", y)\n",
    "print(\"type\", type(x))\n",
    "\n",
    "###numpyの算術計算．要素数を合わせる###\n",
    "print(\"x-y\", x - y)    \n",
    "print(\"x*y\", x * y)\n",
    "print(\"x/2\", x / 2)    #ブロードキャスト機能\n",
    "\n",
    "z=np.array([3, 4])\n",
    "#print(x-z) これはエラー\n",
    "\n",
    "###N次元配列###\n",
    "A=np.array([[1, 2], [3, 4], [5, 6]])\n",
    "B=np.array([[1, 0], [1, 0], [1, 0]])\n",
    "print(\"A\", A)\n",
    "#print(\"B\", B)\n",
    "print(\"Shape\", A.shape)    \n",
    "print(\"dtype\", A.dtype) #要素のデータ型\n",
    "#print(\"A+B\", A+B)\n",
    "#print(\"A*B\", A*B)\n",
    "\n",
    "###要素へのアクセス###\n",
    "X=np.array([[51, 55], [14, 19], [0, 4]])\n",
    "print(\"X\", X)\n",
    "for row in X:\n",
    "    print(row)\n",
    "print(\"flatten\", X.flatten())\n",
    "X=X.flatten()\n",
    "print(\"X[0]\", X[0])\n",
    "print(\"X[0][2][4]\", X[np.array([0, 2, 4])])\n",
    "print(\"X>15\", X>15)\n",
    "print(\"X[i]>15\", X[X>15])"
   ]
  },
  {
   "attachments": {},
   "cell_type": "markdown",
   "metadata": {},
   "source": [
    "### Matplotlib"
   ]
  },
  {
   "cell_type": "code",
   "execution_count": null,
   "metadata": {},
   "outputs": [],
   "source": [
    "import matplotlib.pyplot as plt\n",
    "x=np.arange(0, 6, 0.1)  #0から6まで0.1刻みで生成\n",
    "#print(x)\n",
    "y=np.sin(x)"
   ]
  },
  {
   "cell_type": "code",
   "execution_count": null,
   "metadata": {},
   "outputs": [],
   "source": []
  }
 ],
 "metadata": {
  "kernelspec": {
   "display_name": "Python 3",
   "language": "python",
   "name": "python3"
  },
  "language_info": {
   "codemirror_mode": {
    "name": "ipython",
    "version": 3
   },
   "file_extension": ".py",
   "mimetype": "text/x-python",
   "name": "python",
   "nbconvert_exporter": "python",
   "pygments_lexer": "ipython3",
   "version": "3.8.10"
  },
  "orig_nbformat": 4
 },
 "nbformat": 4,
 "nbformat_minor": 2
}
