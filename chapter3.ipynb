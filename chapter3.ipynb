{
 "cells": [
  {
   "attachments": {},
   "cell_type": "markdown",
   "metadata": {},
   "source": [
    "# ニューラルネットワーク"
   ]
  },
  {
   "attachments": {},
   "cell_type": "markdown",
   "metadata": {},
   "source": [
    "# 活性化関数\n",
    "- シグモイド関数(1/1+exp(-x))   (0~1を返す)\n",
    "- ReLU関数 \n"
   ]
  },
  {
   "cell_type": "code",
   "execution_count": 27,
   "metadata": {},
   "outputs": [
    {
     "data": {
      "image/png": "[encoded data removed]",
      "text/plain": [
       "<Figure size 640x480 with 1 Axes>"
      ]
     },
     "metadata": {},
     "output_type": "display_data"
    }
   ],
   "source": [
    "import numpy as np\n",
    "import matplotlib.pyplot as plt\n",
    "\n",
    "###シグモイド関数の実装###\n",
    "def sigmoid(x):\n",
    "\n",
    "    return 1/(1+np.exp(-x))    #単純な実装\n",
    "    \n",
    "\n",
    "###ReLU関数の実装###\n",
    "def ReLU(x):\n",
    "    return np.maximum(0, x)\n",
    "\n",
    "x = np.arange(-5, 5, 0.1)\n",
    "y1 =sigmoid(x)\n",
    "y2 =ReLU(x)\n",
    "plt.plot(x, y1, label=\"sigmoid\")\n",
    "plt.plot(x, y2, label=\"ReLU\")\n",
    "plt.legend()\n",
    "plt.show()\n"
   ]
  },
  {
   "attachments": {},
   "cell_type": "markdown",
   "metadata": {},
   "source": [
    "### 3層のニューラルネットワーク"
   ]
  },
  {
   "cell_type": "code",
   "execution_count": 18,
   "metadata": {},
   "outputs": [
    {
     "name": "stdout",
     "output_type": "stream",
     "text": [
      "[1. 1.]\n"
     ]
    }
   ],
   "source": [
    "def init_network():\n",
    "\n",
    "    #入力が２ユニット,出力が２ユニット,隠れ層１が３ユニット，隠れ層２が２ユニットの場合\n",
    "    network ={}\n",
    "    network[\"W1\"] = np.array([[1,1, 1], [1, 1, 1]]) #2*3\n",
    "    network[\"W2\"] = np.array([[1, 1], [1, 1], [1, 1]]) #3*2\n",
    "    network[\"W3\"] = np.array([[1, 1], [1, 1]])\n",
    "    network[\"b1\"] = np.array([1, 1, 1])\n",
    "    network[\"b2\"] = np.array([1, 1])\n",
    "    network[\"b3\"] = np.array([1, 1])\n",
    "\n",
    "    return network\n",
    "\n",
    "def forward(network, x):\n",
    "    y1 = ReLU(np.dot(x, network[\"W1\"]) + network[\"b1\"])\n",
    "    y2 = ReLU(np.dot(y1, network[\"W2\"]) + network[\"b2\"])\n",
    "    y3 = sigmoid(np.dot(y2, network[\"W3\"]) + network[\"b3\"])\n",
    "\n",
    "    return y3\n",
    "\n",
    "network = init_network()\n",
    "x = np.array([5, 10])\n",
    "y = forward(network, x)\n",
    "print(y)\n",
    "\n",
    "    "
   ]
  },
  {
   "attachments": {},
   "cell_type": "markdown",
   "metadata": {},
   "source": [
    "### 出力層\n",
    "- 確率に変換するソフトマックス関数(exp(y) / sum( exp(yi) ))"
   ]
  },
  {
   "cell_type": "code",
   "execution_count": 25,
   "metadata": {},
   "outputs": [
    {
     "data": {
      "text/plain": [
       "array([9.99954600e-01, 4.53978686e-05, 2.06106005e-09])"
      ]
     },
     "execution_count": 25,
     "metadata": {},
     "output_type": "execute_result"
    }
   ],
   "source": [
    "def softmax(y):\n",
    "    #return np.exp(y) / np.sum(np.exp(y))   単純な実装\n",
    "\n",
    "    #オーバーフロー対策\n",
    "    c=np.max(y)\n",
    "    exp_y = np.exp(y-c)\n",
    "    return exp_y / np.sum(exp_y)\n",
    "\n",
    "softmax(np.array([1010, 1000, 990]))"
   ]
  }
 ],
 "metadata": {
  "kernelspec": {
   "display_name": "Python 3",
   "language": "python",
   "name": "python3"
  },
  "language_info": {
   "codemirror_mode": {
    "name": "ipython",
    "version": 3
   },
   "file_extension": ".py",
   "mimetype": "text/x-python",
   "name": "python",
   "nbconvert_exporter": "python",
   "pygments_lexer": "ipython3",
   "version": "3.8.10"
  },
  "orig_nbformat": 4
 },
 "nbformat": 4,
 "nbformat_minor": 2
}
