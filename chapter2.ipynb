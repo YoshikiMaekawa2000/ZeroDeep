{
 "cells": [
  {
   "attachments": {},
   "cell_type": "markdown",
   "metadata": {},
   "source": [
    "# パーセプトロン"
   ]
  },
  {
   "attachments": {},
   "cell_type": "markdown",
   "metadata": {},
   "source": [
    "### ANDゲート・NANDゲート・ORゲート"
   ]
  },
  {
   "cell_type": "code",
   "execution_count": 15,
   "metadata": {},
   "outputs": [],
   "source": [
    "import numpy as np\n",
    "\n",
    "###単純な実装###\n",
    "def AND0(x1, x2):\n",
    "    W1, W2, theta = 0.5, 0.5, 0.7\n",
    "    return(int(theta < (x1*W1 + x2*W2)))    \n",
    "\n",
    "#print(AND0(0, 1))\n",
    "#print(AND0(0, 0))\n",
    "#print(AND0(1, 0))\n",
    "#print(AND0(1, 1))\n",
    "\n",
    "###重みとバイアスによる実装###\n",
    "def AND(x1, x2):\n",
    "    x = np.array([x1, x2])\n",
    "    w = np.array([0.5, 0.5])\n",
    "    b = 0.7\n",
    "    return int(b < np.sum(x*w))\n",
    "\n",
    "###NAND###\n",
    "def NAND(x1, x2):\n",
    "    x = np.array([x1, x2])\n",
    "    w = np.array([-0.5, -0.5])\n",
    "    b = -0.7\n",
    "    return int(b < np.sum(x*w))\n",
    "\n",
    "###OR###\n",
    "def OR(x1, x2):\n",
    "    x = np.array([x1, x2])\n",
    "    w = np.array([0.7, 0.7])\n",
    "    b = 0.5\n",
    "    return int(b < np.sum(x*w))\n"
   ]
  },
  {
   "attachments": {},
   "cell_type": "markdown",
   "metadata": {},
   "source": [
    "# パーセプトロンの限界\n",
    "- XORゲートは線形分離不能．非線形の関数が必要\n",
    "- 層を深くすることで解決\n",
    "- 層を深くすることで，線形分離可能な空間にx1, x2を写像している\n"
   ]
  },
  {
   "cell_type": "code",
   "execution_count": 18,
   "metadata": {},
   "outputs": [
    {
     "name": "stdout",
     "output_type": "stream",
     "text": [
      "0\n",
      "1\n",
      "1\n",
      "0\n"
     ]
    }
   ],
   "source": [
    "def XOR(x1, x2):\n",
    "    s1 = NAND(x1, x2)\n",
    "    s2 = OR(x1, x2)\n",
    "    y = AND(s1, s2)\n",
    "    return y\n",
    "\n",
    "print(XOR(0, 0))\n",
    "print(XOR(1, 0))\n",
    "print(XOR(0, 1))\n",
    "print(XOR(1, 1))\n",
    "\n",
    "\n"
   ]
  }
 ],
 "metadata": {
  "kernelspec": {
   "display_name": "Python 3",
   "language": "python",
   "name": "python3"
  },
  "language_info": {
   "codemirror_mode": {
    "name": "ipython",
    "version": 3
   },
   "file_extension": ".py",
   "mimetype": "text/x-python",
   "name": "python",
   "nbconvert_exporter": "python",
   "pygments_lexer": "ipython3",
   "version": "3.8.10"
  },
  "orig_nbformat": 4
 },
 "nbformat": 4,
 "nbformat_minor": 2
}
